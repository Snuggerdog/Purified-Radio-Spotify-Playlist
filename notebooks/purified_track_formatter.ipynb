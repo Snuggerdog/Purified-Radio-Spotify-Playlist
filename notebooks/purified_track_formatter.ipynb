{
 "cells": [
  {
   "cell_type": "code",
   "execution_count": 4,
   "id": "b5ca745d-2c26-4b1f-9e02-f6cd0b696a1e",
   "metadata": {},
   "outputs": [
    {
     "name": "stdout",
     "output_type": "stream",
     "text": [
      "jobs done\n"
     ]
    }
   ],
   "source": [
    "import pandas as pd\n",
    "import json\n",
    "import re\n",
    "import csv\n",
    "##NOTE - Some track lists are not  extracted properly in this script due to inconsistent formatting on some of the older videos. I will later update to check for these inconsistent formats and add them in later.\n",
    "print(\"jobs done\")"
   ]
  },
  {
   "cell_type": "code",
   "execution_count": 5,
   "id": "06c008b4-5e65-4505-8952-f1078428939c",
   "metadata": {},
   "outputs": [],
   "source": [
    "# load JSON file w/ Track Information\n",
    "with open('track_lists.json', 'r') as file:\n",
    "    purified_track_info = json.load(file)\n",
    "\n",
    "#print(purified_track_info)\n",
    "\n"
   ]
  },
  {
   "cell_type": "code",
   "execution_count": 10,
   "id": "d1fb743f-3c00-4957-b1ad-1c072eef18d5",
   "metadata": {},
   "outputs": [
    {
     "name": "stdout",
     "output_type": "stream",
     "text": [
      "Extracting the track information into a more readable format bruv...\n",
      "The job is done\n"
     ]
    }
   ],
   "source": [
    "#initialize track info dictionary with empty values\n",
    "purifiedRadioTracks = {'videos': []}\n",
    "\n",
    "# Reg Expression Logic for parsing the respective values for each track_info dictionary key. This will be taken within JSON 'text' key\n",
    "\n",
    "regex_pattern = re.compile(r'(\\d{2})-\\s(\\d{2}:\\d{2})\\s(\\b[a-zA-Z].*?)\\s-\\s(.*?)(?=\\s*\\d{2}-|\\s*$|\\r\\n)')\n",
    "\n",
    "#test_str = purified_track_info[2]['text']\n",
    "#print(test_str)\n",
    "print(\"Extracting the track information into a more readable format bruv...\")\n",
    "for purified_track in purified_track_info:\n",
    "    \n",
    "    video_tracks = [] # This list will hold all tracks for each individual video\n",
    "    video_name = purified_track['video_name']\n",
    "    info_strs = regex_pattern.findall(purified_track['text'])\n",
    "\n",
    "    for substr in info_strs:\n",
    "        track_dict = {\n",
    "            'trackNumber': substr[0],\n",
    "            'timestamp': substr[1],\n",
    "            'artist': substr[2],\n",
    "            'trackName': substr[3]\n",
    "        }\n",
    "        video_tracks.append(track_dict) # Add the track info to the temporary list\n",
    "        \n",
    "    #Create dictionary for each video and add it to the purifiedRadioTracks list\n",
    "    video_dict = {'videoName': video_name, 'tracks': video_tracks}\n",
    "    purifiedRadioTracks['videos'].append(video_dict)\n",
    "\n",
    "    \n",
    "print(\"The job is done\")\n",
    "#problem_str = '12- 53:55 Willy Commy - Alcyone (Original Mix)[Beatlick]'\n",
    "#problem_reg_str = regex_pattern.findall(problem_str)\n",
    "#print(problem_reg_str)\n",
    "#print(track_info)"
   ]
  },
  {
   "cell_type": "code",
   "execution_count": 11,
   "id": "29d96a9f-a35b-4116-80c0-c367a51e17e1",
   "metadata": {},
   "outputs": [
    {
     "name": "stdout",
     "output_type": "stream",
     "text": [
      "Writing file to JSON file too my brother\n",
      "job's done\n"
     ]
    }
   ],
   "source": [
    "#print(track_info)\n",
    "\n",
    "##flattened_track_info = [track for video in track_info for track in video]\n",
    "\n",
    "#print(\"Writing file to CSV my brother\")\n",
    "#csv_columns = ['video_name', 'track_number', 'timestamp', 'artist', 'track_name']\n",
    "#csv_file = 'purified_radio_track_lists.csv'\n",
    "#with open(csv_file, 'w', newline='', encoding='utf-8') as file:\n",
    "    #write = csv.DictWriter(file, fieldnames=csv_columns)\n",
    "    #write.writeheader()\n",
    "    #write.writerows(flattened_track_info)\n",
    "\n",
    "\n",
    "print(\"Writing file to JSON file too my brother\")\n",
    "with open('purified_radio_track_lists_not_flattened.json', 'w') as file:\n",
    "    json.dump({'purifiedRadioTracks': purifiedRadioTracks}, file, indent=2)\n",
    "\n",
    "print(\"job's done\")"
   ]
  },
  {
   "cell_type": "code",
   "execution_count": null,
   "id": "1ed8db7f-61cd-4367-8a22-8eee60599b38",
   "metadata": {},
   "outputs": [],
   "source": []
  }
 ],
 "metadata": {
  "kernelspec": {
   "display_name": "Python 3 (ipykernel)",
   "language": "python",
   "name": "python3"
  },
  "language_info": {
   "codemirror_mode": {
    "name": "ipython",
    "version": 3
   },
   "file_extension": ".py",
   "mimetype": "text/x-python",
   "name": "python",
   "nbconvert_exporter": "python",
   "pygments_lexer": "ipython3",
   "version": "3.11.7"
  }
 },
 "nbformat": 4,
 "nbformat_minor": 5
}
