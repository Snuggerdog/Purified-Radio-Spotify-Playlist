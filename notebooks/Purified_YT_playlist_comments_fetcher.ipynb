{
 "cells": [
  {
   "cell_type": "code",
   "execution_count": 9,
   "id": "f68928a8-ca21-4543-bbde-c5bfa259f25f",
   "metadata": {},
   "outputs": [
    {
     "name": "stdout",
     "output_type": "stream",
     "text": [
      "Jobs Done\n"
     ]
    }
   ],
   "source": [
    "from googleapiclient.discovery import build\n",
    "from googleapiclient.errors import HttpError\n",
    "from util.comments import process_comments, process_videos_items_in_playlist\n",
    "import sys\n",
    "import json\n",
    "from dotenv import load_dotenv\n",
    "load_dotenv(r'C:\\path\\to\\myy\\directory\\Scripts\\Python Projects\\YT_Purified_Radio\\util\\.env.example')\n",
    "print(\"Jobs Done\")"
   ]
  },
  {
   "cell_type": "code",
   "execution_count": 5,
   "id": "fb9c4208-7001-41c0-89f1-1b4c573a2fc8",
   "metadata": {},
   "outputs": [],
   "source": [
    "#vid_id = \"l2DlaF6q4eY\"\n",
    "\n",
    "#initialize the YT API client\n",
    "\n",
    "yt_client = build(\"youtube\", \"v3\", developerKey=YT_DEVELOPER_KEY)\n",
    "\n",
    "def get_playlist_items(playlist_id):\n",
    "    playlist_item_list = []\n",
    "\n",
    "    request = yt_client.playlistItems().list(\n",
    "        part=\"id,snippet,status\",\n",
    "        playlistId=playlist_id,\n",
    "        maxResults=100\n",
    "    )\n",
    "    response = request.execute()\n",
    "    playlist_item_list.extend(process_videos_items_in_playlist(response['items']))\n",
    "\n",
    "    # if there is nextPageToken, then keep calling the API\n",
    "\n",
    "    while response.get('nextPageToken', None):\n",
    "        request = yt_client.playlistItems().list(\n",
    "            part='id,snippet,status',\n",
    "            playlistId=playlist_id,\n",
    "            maxResults=100,\n",
    "            pageToken=response['nextPageToken']\n",
    "        )\n",
    "        response = request.execute()\n",
    "        #print(response)\n",
    "        playlist_item_list.extend(process_videos_items_in_playlist(response['items']))\n",
    "\n",
    "    return playlist_item_list\n",
    "    \n",
    "\n",
    "def get_comments(video_id, to_csv=False):\n",
    "    comments_list = []\n",
    "    \n",
    "    request = yt_client.commentThreads().list(\n",
    "        part='replies,snippet',\n",
    "        order=\"relevance\",\n",
    "        maxResults=100,\n",
    "        videoId=video_id,\n",
    "    )\n",
    "    response = request.execute()\n",
    "    #print(response)\n",
    "    #print(response['items'])\n",
    "    #return print(process_comments(response['items']))\n",
    "    comments_list.extend(process_comments(response['items'],replies=False, commenter_name = '@daa-music'))\n",
    "\n",
    "    # if there is nextPageToken, then keep calling the API\n",
    "    while response.get('nextPageToken', None):\n",
    "        request = yt_client.commentThreads().list(\n",
    "            part='replies,snippet',\n",
    "            order=\"relevance\",\n",
    "            maxResults=100,\n",
    "            videoId=video_id,\n",
    "            pageToken=response['nextPageToken']\n",
    "        )\n",
    "        response = request.execute()\n",
    "        #print(response)\n",
    "        comments_list.extend(process_comments(response['items'],replies=False, commenter_name = \"@daa-music\"))\n",
    "        \n",
    "    #print(response['items'])\n",
    "    #return print(process_comments(response['items']))\n",
    "    return comments_list\n"
   ]
  },
  {
   "cell_type": "code",
   "execution_count": 6,
   "id": "171015dc-ec87-43f3-b161-589359586a0f",
   "metadata": {},
   "outputs": [
    {
     "name": "stdout",
     "output_type": "stream",
     "text": [
      "Processing Videos in specified Playlist. Please standby broham...\n",
      "Process complete\n"
     ]
    }
   ],
   "source": [
    "video_ids = get_playlist_items(\"PL-Wt-lDOPUzHBDXm8ODmax9oHhVX6YtEb\")\n",
    "all_comments = []\n",
    "print('Processing Videos in specified Playlist. Please standby broham...')\n",
    "\n",
    "for video in video_ids:\n",
    "    video_id = video['video_id'] # Getting the video ID\n",
    "    video_name = video['video_name']  # Getting the video name\n",
    "    comments = get_comments(video_id) # Getting comments for the video\n",
    "\n",
    "    for comment in comments:\n",
    "        updated_comment = {'video_name': video_name} # Adding the video name to each comment grouping (create a new dictionary so that the video_name is the first key)\n",
    "        updated_comment.update(comment)\n",
    "        all_comments.append(updated_comment) # adds the modified comment to the list\n",
    "\n",
    "    \n",
    "print('Process complete')"
   ]
  },
  {
   "cell_type": "code",
   "execution_count": 7,
   "id": "24ba2d5c-5cef-4929-89b1-860a6f0bd062",
   "metadata": {},
   "outputs": [
    {
     "name": "stdout",
     "output_type": "stream",
     "text": [
      "exported results to a json file\n"
     ]
    }
   ],
   "source": [
    "with open('track_lists.json', 'w',) as file:\n",
    "    json.dump(all_comments, file, indent=2)\n",
    "\n",
    "print('exported results to a json file')"
   ]
  },
  {
   "cell_type": "code",
   "execution_count": null,
   "id": "6c3622e8-47cf-4255-b6ff-d21f47010e20",
   "metadata": {},
   "outputs": [],
   "source": []
  }
 ],
 "metadata": {
  "kernelspec": {
   "display_name": "Python 3 (ipykernel)",
   "language": "python",
   "name": "python3"
  },
  "language_info": {
   "codemirror_mode": {
    "name": "ipython",
    "version": 3
   },
   "file_extension": ".py",
   "mimetype": "text/x-python",
   "name": "python",
   "nbconvert_exporter": "python",
   "pygments_lexer": "ipython3",
   "version": "3.11.7"
  }
 },
 "nbformat": 4,
 "nbformat_minor": 5
}
